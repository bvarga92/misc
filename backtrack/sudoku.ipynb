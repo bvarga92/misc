{
 "cells": [
  {
   "cell_type": "markdown",
   "metadata": {},
   "source": [
    "### Sudoku megoldása backtrack algoritmussal"
   ]
  },
  {
   "cell_type": "code",
   "execution_count": 1,
   "metadata": {},
   "outputs": [
    {
     "name": "stdout",
     "output_type": "stream",
     "text": [
      "5 3 0 | 0 7 0 | 0 0 0 \n",
      "6 0 0 | 1 9 5 | 0 0 0 \n",
      "0 9 8 | 0 0 0 | 0 6 0 \n",
      "------+-------+------\n",
      "8 0 0 | 0 6 0 | 0 0 3 \n",
      "4 0 0 | 8 0 3 | 0 0 1 \n",
      "7 0 0 | 0 2 0 | 0 0 6 \n",
      "------+-------+------\n",
      "0 6 0 | 0 0 0 | 2 8 0 \n",
      "0 0 0 | 4 1 9 | 0 0 5 \n",
      "0 0 0 | 0 8 0 | 0 7 9 \n",
      "\n",
      "5 3 4 | 6 7 8 | 9 1 2 \n",
      "6 7 2 | 1 9 5 | 3 4 8 \n",
      "1 9 8 | 3 4 2 | 5 6 7 \n",
      "------+-------+------\n",
      "8 5 9 | 7 6 1 | 4 2 3 \n",
      "4 2 6 | 8 5 3 | 7 9 1 \n",
      "7 1 3 | 9 2 4 | 8 5 6 \n",
      "------+-------+------\n",
      "9 6 1 | 5 3 7 | 2 8 4 \n",
      "2 8 7 | 4 1 9 | 6 3 5 \n",
      "3 4 5 | 2 8 6 | 1 7 9 \n",
      "\n"
     ]
    }
   ],
   "source": [
    "import numpy as np\n",
    "\n",
    "def check_board(board):\n",
    "    for r in [0,3,6]:\n",
    "        for c in [0,3,6]:\n",
    "            for n in range(1,10):\n",
    "                if board[r:r+3, c:c+3].ravel().tolist().count(n) > 1:\n",
    "                    return False\n",
    "                for i in range(3):\n",
    "                    if board[r+i, :].tolist().count(n) > 1:\n",
    "                        return False\n",
    "                    if board[:, c+i].tolist().count(n) > 1:\n",
    "                        return False\n",
    "    return True\n",
    "\n",
    "def solve_board(board):\n",
    "    # megkeressuk az ures helyeket\n",
    "    r,c = np.where(board==0)\n",
    "    # ha nincs ures hely, keszen vagyunk\n",
    "    if r.size==0:\n",
    "        return True\n",
    "    # elkezdjuk probalgatni a szamokat az elso megtalalt ures helyre\n",
    "    for i in range(1,10):\n",
    "        board[r[0], c[0]] = i\n",
    "        if check_board(board):\n",
    "            # ha beleillik, rekurzivan megyunk tovabb\n",
    "            if solve_board(board):\n",
    "                return True\n",
    "            # ha ide eljutottunk, akkor nem sikerult megoldani --> visszalepunk\n",
    "            board[r[0], c[0]] = 0\n",
    "        else:\n",
    "            board[r[0], c[0]] = 0\n",
    "    return False\n",
    "\n",
    "def display_board(board):\n",
    "    for r in range(9):\n",
    "        if r in [3, 6]:\n",
    "            print('------+-------+------\\n', end='')\n",
    "        for c in range(9):\n",
    "            if c in [3, 6]:\n",
    "                print('|', end=' '),\n",
    "            print(board[r,c], end=' '),\n",
    "        print()\n",
    "    print()\n",
    "\n",
    "board = np.array([[5,3,0,0,7,0,0,0,0],\n",
    "                  [6,0,0,1,9,5,0,0,0],\n",
    "                  [0,9,8,0,0,0,0,6,0],\n",
    "                  [8,0,0,0,6,0,0,0,3],\n",
    "                  [4,0,0,8,0,3,0,0,1],\n",
    "                  [7,0,0,0,2,0,0,0,6],\n",
    "                  [0,6,0,0,0,0,2,8,0],\n",
    "                  [0,0,0,4,1,9,0,0,5],\n",
    "                  [0,0,0,0,8,0,0,7,9]])\n",
    "\n",
    "display_board(board)\n",
    "solve_board(board)\n",
    "display_board(board)"
   ]
  }
 ],
 "metadata": {
  "kernelspec": {
   "display_name": "Python 3",
   "language": "python",
   "name": "python3"
  },
  "language_info": {
   "codemirror_mode": {
    "name": "ipython",
    "version": 3
   },
   "file_extension": ".py",
   "mimetype": "text/x-python",
   "name": "python",
   "nbconvert_exporter": "python",
   "pygments_lexer": "ipython3",
   "version": "3.7.3"
  }
 },
 "nbformat": 4,
 "nbformat_minor": 2
}
