{
 "cells": [
  {
   "cell_type": "code",
   "execution_count": 1,
   "metadata": {},
   "outputs": [],
   "source": [
    "def solve(puzzle):\n",
    "\n",
    "    def solve_helper(puzzle, letters):\n",
    "        if len(letters) == 0:\n",
    "            if eval(puzzle.replace('\\n', '').replace('\\r', '').replace('=', '==')):\n",
    "                print(puzzle)\n",
    "                return True\n",
    "            else:\n",
    "                return False\n",
    "        for digit in range(10):\n",
    "            if str(digit) not in puzzle:\n",
    "                if digit == 0 and letters[0] in not_zero:\n",
    "                    continue\n",
    "                if solve_helper(puzzle.replace(letters[0], str(digit)), letters[1:]):\n",
    "                    return True\n",
    "        return False\n",
    "\n",
    "    puzzle = puzzle.upper()\n",
    "    letters = list({x for x in puzzle if x >= 'A' and x <= 'Z'})\n",
    "    not_zero = []\n",
    "    for i, x in enumerate(puzzle):\n",
    "        if x >= 'A' and x <= 'Z':\n",
    "            if i == 0 or puzzle[i-1] < 'A' or puzzle[i-1] > 'Z':\n",
    "                if x not in not_zero:\n",
    "                    not_zero.append(x)\n",
    "\n",
    "    print('%s: ' % puzzle)\n",
    "    if not solve_helper(puzzle, letters):\n",
    "        print('no solution exists')"
   ]
  },
  {
   "cell_type": "code",
   "execution_count": 2,
   "metadata": {},
   "outputs": [
    {
     "name": "stdout",
     "output_type": "stream",
     "text": [
      "SEND + MORE = MONEY: \n",
      "9567 + 1085 = 10652\n"
     ]
    }
   ],
   "source": [
    "solve('SEND + MORE = MONEY')"
   ]
  },
  {
   "cell_type": "code",
   "execution_count": 3,
   "metadata": {},
   "outputs": [
    {
     "name": "stdout",
     "output_type": "stream",
     "text": [
      "SO + MANY + MORE + MEN + SEEM + TO + SAY + THAT +\n",
      "THEY + MAY + SOON + TRY + TO + STAY + AT + HOME +\n",
      "SO + AS + TO + SEE + OR + HEAR + THE + SAME + ONE +\n",
      "MAN + TRY + TO + MEET + THE + TEAM + ON + THE +\n",
      "MOON + AS + HE + HAS + AT + THE + OTHER + TEN\n",
      "= TESTS: \n",
      "31 + 2764 + 2180 + 206 + 3002 + 91 + 374 + 9579 +\n",
      "9504 + 274 + 3116 + 984 + 91 + 3974 + 79 + 5120 +\n",
      "31 + 73 + 91 + 300 + 18 + 5078 + 950 + 3720 + 160 +\n",
      "276 + 984 + 91 + 2009 + 950 + 9072 + 16 + 950 +\n",
      "2116 + 73 + 50 + 573 + 79 + 950 + 19508 + 906\n",
      "= 90393\n"
     ]
    }
   ],
   "source": [
    "solve(\"\"\"SO + MANY + MORE + MEN + SEEM + TO + SAY + THAT +\n",
    "THEY + MAY + SOON + TRY + TO + STAY + AT + HOME +\n",
    "SO + AS + TO + SEE + OR + HEAR + THE + SAME + ONE +\n",
    "MAN + TRY + TO + MEET + THE + TEAM + ON + THE +\n",
    "MOON + AS + HE + HAS + AT + THE + OTHER + TEN\n",
    "= TESTS\"\"\")"
   ]
  }
 ],
 "metadata": {
  "kernelspec": {
   "display_name": "Python 3",
   "language": "python",
   "name": "python3"
  },
  "language_info": {
   "codemirror_mode": {
    "name": "ipython",
    "version": 3
   },
   "file_extension": ".py",
   "mimetype": "text/x-python",
   "name": "python",
   "nbconvert_exporter": "python",
   "pygments_lexer": "ipython3",
   "version": "3.5.2"
  }
 },
 "nbformat": 4,
 "nbformat_minor": 2
}
