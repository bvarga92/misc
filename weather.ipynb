{
 "cells": [
  {
   "cell_type": "code",
   "execution_count": 1,
   "metadata": {
    "collapsed": false
   },
   "outputs": [
    {
     "name": "stdout",
     "output_type": "stream",
     "text": [
      "Time of request: 2018-08-15 02:04:49.170199\n",
      "City:            Budapest XI. keruelet\n",
      "GPS location:    19.040000, 47.480000\n",
      "Weather:         Clear (clear sky)\n",
      "Temperature:     19.00 °C\n",
      "Humidity:        100%\n",
      "Pressure:        1013 hPa\n",
      "Wind:            1.0 m/s\n",
      "Visibility:      10000 m\n",
      "Sunrise:         2018-08-15 05:39:36\n",
      "Sunset:          2018-08-15 19:56:10\n"
     ]
    }
   ],
   "source": [
    "import os.path\n",
    "from datetime import datetime\n",
    "import requests\n",
    "import json\n",
    "\n",
    "# lekerdezes\n",
    "# APPID regisztracioval igenyelheto, ingyenes fiokkal 10 percnel gyakrabban nem szabad\n",
    "# lekerdezni, kulonben 1 orara letiltjak a fiokot. Ezt a szkript ellenorzi, es ha az\n",
    "# elmult 10 percben tortent lekerdezes, akkor annak az eredmenyet jeleniti meg.\n",
    "timeFormat='%Y-%m-%d %H:%M:%S.%f'\n",
    "if not os.path.exists('lastRequest.txt'):\n",
    "    lastRqFile=open('lastRequest.txt','w')\n",
    "    lastRequest='2000-01-01 00:00:00.000000'\n",
    "else:\n",
    "    lastRqFile=open('lastRequest.txt','r+')\n",
    "    lastRequest=lastRqFile.read()\n",
    "curRequest=datetime.now().strftime(timeFormat)\n",
    "diff=datetime.strptime(curRequest,timeFormat)-datetime.strptime(lastRequest,timeFormat)\n",
    "if diff.total_seconds()>660:\n",
    "    lastRqFile.seek(0)\n",
    "    lastRqFile.truncate()\n",
    "    lastRqFile.write(curRequest)\n",
    "    lastRequest=curRequest\n",
    "    with open('appid.txt') as appidFile:\n",
    "        appid=appidFile.read()\n",
    "        appidFile.close()\n",
    "    req=requests.get('https://api.openweathermap.org/data/2.5/weather?', \\\n",
    "                     params={'id':'7284824','appid':appid})\n",
    "    if req.status_code!=200:\n",
    "        raise Exception('HTTP error, code %d.' % req.status_code)\n",
    "    with open('weather.json','w') as jsonFile:\n",
    "        jsonFile.write(str(req.text))\n",
    "        jsonFile.close()\n",
    "print('Time of request: %s' % datetime.strptime(lastRequest,timeFormat))\n",
    "lastRqFile.close()\n",
    "\n",
    "# JSON file feldolgozasa\n",
    "with open('weather.json') as jsonFile:\n",
    "    data=json.loads(jsonFile.read())\n",
    "    jsonFile.close()\n",
    "print('City:            %s' % data['name'])\n",
    "print('GPS location:    %f, %f' % (data['coord']['lon'],data['coord']['lat']))\n",
    "print('Weather:         %s (%s)' % (data['weather'][0]['main'],data['weather'][0]['description']))\n",
    "print('Temperature:     %.2f %cC' % (data['main']['temp']-273.15,chr(176)))\n",
    "print('Humidity:        %.f%%' % data['main']['humidity'])\n",
    "print('Pressure:        %.f hPa' % data['main']['pressure'])\n",
    "print('Wind:            %.1f m/s' % (data['wind']['speed']))\n",
    "print('Visibility:      %.f m' % data['visibility'])\n",
    "print('Sunrise:         %s' % str(datetime.fromtimestamp(data['sys']['sunrise'])))\n",
    "print('Sunset:          %s' % str(datetime.fromtimestamp(data['sys']['sunset'])))"
   ]
  },
  {
   "cell_type": "code",
   "execution_count": null,
   "metadata": {
    "collapsed": true
   },
   "outputs": [],
   "source": []
  }
 ],
 "metadata": {
  "anaconda-cloud": {},
  "kernelspec": {
   "display_name": "Python [Root]",
   "language": "python",
   "name": "Python [Root]"
  },
  "language_info": {
   "codemirror_mode": {
    "name": "ipython",
    "version": 3
   },
   "file_extension": ".py",
   "mimetype": "text/x-python",
   "name": "python",
   "nbconvert_exporter": "python",
   "pygments_lexer": "ipython3",
   "version": "3.5.2"
  }
 },
 "nbformat": 4,
 "nbformat_minor": 0
}
