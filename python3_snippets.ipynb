{
 "cells": [
  {
   "cell_type": "markdown",
   "metadata": {},
   "source": [
    "### Példa generátorokra: első *N* pitagoraszi számhármas és Fibonacci-szám előállítása, sejtautomata."
   ]
  },
  {
   "cell_type": "code",
   "execution_count": 1,
   "metadata": {},
   "outputs": [
    {
     "name": "stdout",
     "output_type": "stream",
     "text": [
      "[(3, 4, 5), (6, 8, 10), (5, 12, 13), (9, 12, 15), (8, 15, 17)]\n",
      "[0, 1, 1, 2, 3, 5, 8, 13, 21, 34, 55, 89, 144, 233, 377, 610, 987, 1597, 2584, 4181]\n"
     ]
    },
    {
     "data": {
      "image/png": "[encoded data removed]",
      "text/plain": [
       "<matplotlib.figure.Figure at 0x7fa7e9a1b518>"
      ]
     },
     "metadata": {},
     "output_type": "display_data"
    }
   ],
   "source": [
    "import itertools\n",
    "import numpy as np\n",
    "import matplotlib.pyplot as plt\n",
    "%matplotlib inline\n",
    "\n",
    "def intGenerator():\n",
    "    i=1\n",
    "    while True:\n",
    "        yield i\n",
    "        i=i+1\n",
    "pythGenerator=((a,b,c) for c in intGenerator() for b in range(1,c) for a in range(1,b) if a**2+b**2==c**2)\n",
    "print(list(itertools.islice(pythGenerator,5)))\n",
    "\n",
    "def fiboGenerator():\n",
    "    a, b = 0, 1\n",
    "    while True:\n",
    "        yield a\n",
    "        a, b = b, a+b\n",
    "print(list(itertools.islice(fiboGenerator(),20)))\n",
    "\n",
    "def cellularGenerator(rule,size):\n",
    "    ruleBin=np.array([int(b) for b in np.binary_repr(rule,8)])\n",
    "    state=np.random.randint(2,size=size)\n",
    "    while True:\n",
    "        yield state\n",
    "        state=ruleBin[7-(np.roll(state,1)*4+state*2+np.roll(state,-1))]\n",
    "plt.figure(figsize=[5,5])\n",
    "plt.imshow(np.vstack(itertools.islice(cellularGenerator(110,100),100)),cmap=plt.cm.binary)\n",
    "plt.axis('off');"
   ]
  },
  {
   "cell_type": "markdown",
   "metadata": {},
   "source": [
    "### Függvények listája a map() argumentuában."
   ]
  },
  {
   "cell_type": "code",
   "execution_count": 2,
   "metadata": {},
   "outputs": [
    {
     "name": "stdout",
     "output_type": "stream",
     "text": [
      "[0, 0]\n",
      "[2, 1]\n",
      "[4, 4]\n",
      "[6, 9]\n",
      "[8, 16]\n",
      "[10, 25]\n",
      "[12, 36]\n",
      "[14, 49]\n",
      "[16, 64]\n",
      "[18, 81]\n"
     ]
    }
   ],
   "source": [
    "flist=[lambda x: x*2, lambda x: x**2]\n",
    "for i in range(10):\n",
    "    print(list(map(lambda x: x(i),flist)))"
   ]
  },
  {
   "cell_type": "markdown",
   "metadata": {},
   "source": [
    "### Korutinok kooperatív ütemezése."
   ]
  },
  {
   "cell_type": "code",
   "execution_count": 3,
   "metadata": {},
   "outputs": [
    {
     "name": "stdout",
     "output_type": "stream",
     "text": [
      "Hello from task 0.\n",
      "Hello from task 1.\n",
      "Hello from task 0.\n",
      "Hello from task 1.\n",
      "Hello from task 0.\n",
      "Hello from task 1.\n",
      "Hello from task 0.\n",
      "Hello from task 1.\n",
      "Hello from task 0.\n",
      "Hello from task 1.\n",
      "Task 0 exited with code 0.\n",
      "Hello from task 1.\n",
      "Hello from task 1.\n",
      "Hello from task 1.\n",
      "Hello from task 1.\n",
      "Hello from task 1.\n",
      "Task 1 exited with code 0.\n",
      "Nothing to schedule, terminating.\n"
     ]
    }
   ],
   "source": [
    "import queue\n",
    "\n",
    "class Task(object):\n",
    "    numTasks=0\n",
    "\n",
    "    def __init__(self,func):\n",
    "        self.func=func\n",
    "        self.id=Task.numTasks\n",
    "        Task.numTasks+=1\n",
    "\n",
    "    def run(self):\n",
    "        return self.func.send(None)\n",
    "\n",
    "class Scheduler(object):\n",
    "    def __init__(self):\n",
    "        self.readyQueue=queue.Queue()\n",
    "        self.tasks={}\n",
    "\n",
    "    def addTask(self,task):\n",
    "        self.tasks[task.id]=task\n",
    "        self.readyQueue.put(task)\n",
    "        return task.id\n",
    "\n",
    "    def start(self):\n",
    "        while self.tasks:\n",
    "            task=self.readyQueue.get()\n",
    "            try:\n",
    "                task.run()\n",
    "            except StopIteration as e:\n",
    "                print(\"Task %d exited with code %d.\"%(task.id,e.value))\n",
    "                del self.tasks[task.id]\n",
    "            else:\n",
    "                self.readyQueue.put(task)\n",
    "        print(\"Nothing to schedule, terminating.\")\n",
    "        \n",
    "def task0():\n",
    "    for i in range(5):\n",
    "        print(\"Hello from task 0.\")\n",
    "        yield\n",
    "    return 0\n",
    "\n",
    "def task1():\n",
    "    for i in range(10):\n",
    "        print(\"Hello from task 1.\")\n",
    "        yield\n",
    "    return 0\n",
    "        \n",
    "scheduler=Scheduler()\n",
    "scheduler.addTask(Task(task0()))\n",
    "scheduler.addTask(Task(task1()))\n",
    "scheduler.start()"
   ]
  },
  {
   "cell_type": "markdown",
   "metadata": {},
   "source": [
    "### Kódrészlet futásidejének mérése elegánsan."
   ]
  },
  {
   "cell_type": "code",
   "execution_count": 4,
   "metadata": {},
   "outputs": [
    {
     "name": "stdout",
     "output_type": "stream",
     "text": [
      "Runtime of loopThou: 0.3 ms.\n",
      "Runtime of loopMill: 228.4 ms.\n"
     ]
    }
   ],
   "source": [
    "import time\n",
    "from contextlib import contextmanager\n",
    "\n",
    "@contextmanager\n",
    "def timethis(name):\n",
    "    t1=time.time()\n",
    "    yield\n",
    "    t2=time.time()\n",
    "    print('Runtime of %s: %0.1f ms.'%(name,(t2-t1)*1000))\n",
    "\n",
    "with timethis('loopThou'):\n",
    "    i=0\n",
    "    while i<1000:\n",
    "        i+=1\n",
    "\n",
    "with timethis('loopMill'):\n",
    "    i=0\n",
    "    while i<1000000:\n",
    "        i+=1"
   ]
  },
  {
   "cell_type": "code",
   "execution_count": 5,
   "metadata": {},
   "outputs": [
    {
     "name": "stdout",
     "output_type": "stream",
     "text": [
      "Runtime of testFunc: 116.3 ms.\n"
     ]
    }
   ],
   "source": [
    "def timeit(func):\n",
    "    def wrapper(*args,**kwargs):\n",
    "        import time\n",
    "        t1=time.time()\n",
    "        res=func(*args,**kwargs)\n",
    "        t2=time.time()\n",
    "        print(\"Runtime of %s: %.1f ms.\"%(func.__name__,(t2-t1)*1000))\n",
    "        return res\n",
    "    return wrapper\n",
    "\n",
    "@timeit\n",
    "def testFunc():\n",
    "    i=0\n",
    "    while i<1000000:\n",
    "        i+=1\n",
    "        \n",
    "testFunc()"
   ]
  },
  {
   "cell_type": "markdown",
   "metadata": {
    "scrolled": true
   },
   "source": [
    "### Függvények kimenetét fájlba átirányító dekorátor."
   ]
  },
  {
   "cell_type": "code",
   "execution_count": 6,
   "metadata": {},
   "outputs": [
    {
     "name": "stdout",
     "output_type": "stream",
     "text": [
      "Function testFunc called. Output:\n",
      "0\n",
      "7\n",
      "14\n",
      "21\n",
      "28\n",
      "35\n",
      "42\n",
      "49\n",
      "56\n",
      "63\n",
      "Function testFunc returned 0.\n"
     ]
    }
   ],
   "source": [
    "def outputToFile(func):\n",
    "    def wrapper(*args,**kwargs):\n",
    "        import sys\n",
    "        filename='log.txt'\n",
    "        file=open(filename,'a')\n",
    "        file.write('Function '+func.__name__+' called. Output:\\n')\n",
    "        stdout_orig=sys.stdout\n",
    "        sys.stdout=file\n",
    "        res=func(*args,**kwargs)\n",
    "        sys.stdout=stdout_orig\n",
    "        file.write('Function '+func.__name__+' returned '+str(res)+'.\\n')\n",
    "        file.close()\n",
    "        return res\n",
    "    return wrapper\n",
    "\n",
    "@outputToFile\n",
    "def testFunc(x):\n",
    "    for i in range(10):\n",
    "        print(i*x)\n",
    "    return 0\n",
    "\n",
    "testFunc(7)\n",
    "file=open('log.txt')\n",
    "for line in file: print(line,end=\"\")\n",
    "file.close()"
   ]
  },
  {
   "cell_type": "markdown",
   "metadata": {
    "collapsed": true
   },
   "source": [
    "### Listák együttes rendezése"
   ]
  },
  {
   "cell_type": "code",
   "execution_count": 7,
   "metadata": {},
   "outputs": [
    {
     "name": "stdout",
     "output_type": "stream",
     "text": [
      "[1, 2, 3, 4, 5]\n",
      "['c', 'b', 'a', 'e', 'd']\n"
     ]
    }
   ],
   "source": [
    "l1=[3,2,1,5,4]\n",
    "l2=['a','b','c','d','e']\n",
    "\n",
    "l1, l2 = (list(t) for t in zip(*sorted(zip(l1, l2))))\n",
    "\n",
    "print(l1)\n",
    "print(l2)"
   ]
  },
  {
   "cell_type": "code",
   "execution_count": null,
   "metadata": {
    "collapsed": true
   },
   "outputs": [],
   "source": []
  }
 ],
 "metadata": {
  "kernelspec": {
   "display_name": "Python 3",
   "language": "python",
   "name": "python3"
  },
  "language_info": {
   "codemirror_mode": {
    "name": "ipython",
    "version": 3
   },
   "file_extension": ".py",
   "mimetype": "text/x-python",
   "name": "python",
   "nbconvert_exporter": "python",
   "pygments_lexer": "ipython3",
   "version": "3.6.1"
  }
 },
 "nbformat": 4,
 "nbformat_minor": 2
}
