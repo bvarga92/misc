{
 "cells": [
  {
   "cell_type": "markdown",
   "metadata": {},
   "source": [
    "### Példa generátorokra: első *N* pitagoraszi számhármas és Fibonacci-szám előállítása, sejtautomata"
   ]
  },
  {
   "cell_type": "code",
   "execution_count": 1,
   "metadata": {},
   "outputs": [
    {
     "name": "stdout",
     "output_type": "stream",
     "text": [
      "[(3, 4, 5), (6, 8, 10), (5, 12, 13), (9, 12, 15), (8, 15, 17)]\n",
      "[0, 1, 1, 2, 3, 5, 8, 13, 21, 34, 55, 89, 144, 233, 377, 610, 987, 1597, 2584, 4181]\n"
     ]
    },
    {
     "data": {
      "image/png": "[encoded data removed]",
      "text/plain": [
       "<matplotlib.figure.Figure at 0x7f9e9c1722e8>"
      ]
     },
     "metadata": {
      "needs_background": "light"
     },
     "output_type": "display_data"
    }
   ],
   "source": [
    "import itertools\n",
    "import numpy as np\n",
    "import matplotlib.pyplot as plt\n",
    "%matplotlib inline\n",
    "\n",
    "\n",
    "\n",
    "def int_generator():\n",
    "    i = 1\n",
    "    while True:\n",
    "        yield i\n",
    "        i += 1\n",
    "pyth_generator = ((a,b,c) for c in int_generator() for b in range(1,c) for a in range(1,b) if a**2+b**2==c**2)\n",
    "print(list(itertools.islice(pyth_generator, 5)))\n",
    "\n",
    "\n",
    "\n",
    "def fibo_generator():\n",
    "    a, b = 0, 1\n",
    "    while True:\n",
    "        yield a\n",
    "        a, b = b, a+b\n",
    "print(list(itertools.islice(fibo_generator(), 20)))\n",
    "\n",
    "\n",
    "\n",
    "def cellular_generator(rule, size):\n",
    "    rule_bin = np.array([int(b) for b in np.binary_repr(rule, 8)])\n",
    "    state = np.random.randint(2, size=size)\n",
    "    while True:\n",
    "        yield state\n",
    "        state = rule_bin[7 - (np.roll(state, 1)*4 + state*2 + np.roll(state, -1))]\n",
    "plt.figure(figsize=[5, 5])\n",
    "plt.imshow(np.vstack(itertools.islice(cellular_generator(110, 100), 100)), cmap=plt.cm.binary)\n",
    "plt.axis('off');"
   ]
  },
  {
   "cell_type": "markdown",
   "metadata": {},
   "source": [
    "### Függvények listája a map() argumentuában"
   ]
  },
  {
   "cell_type": "code",
   "execution_count": 2,
   "metadata": {},
   "outputs": [
    {
     "name": "stdout",
     "output_type": "stream",
     "text": [
      "[0, 0]\n",
      "[2, 1]\n",
      "[4, 4]\n",
      "[6, 9]\n",
      "[8, 16]\n",
      "[10, 25]\n",
      "[12, 36]\n",
      "[14, 49]\n",
      "[16, 64]\n",
      "[18, 81]\n"
     ]
    }
   ],
   "source": [
    "flist = [lambda x: x*2, lambda x: x**2]\n",
    "for i in range(10):\n",
    "    print(list(map(lambda x: x(i), flist)))"
   ]
  },
  {
   "cell_type": "markdown",
   "metadata": {},
   "source": [
    "### Korutinok kooperatív ütemezése"
   ]
  },
  {
   "cell_type": "code",
   "execution_count": 3,
   "metadata": {},
   "outputs": [
    {
     "name": "stdout",
     "output_type": "stream",
     "text": [
      "Hello from task 0.\n",
      "Hello from task 1.\n",
      "Hello from task 0.\n",
      "Hello from task 1.\n",
      "Hello from task 0.\n",
      "Hello from task 1.\n",
      "Hello from task 0.\n",
      "Hello from task 1.\n",
      "Hello from task 0.\n",
      "Hello from task 1.\n",
      "Task 0 exited with code 0. \n",
      "Hello from task 1.\n",
      "Hello from task 1.\n",
      "Hello from task 1.\n",
      "Hello from task 1.\n",
      "Hello from task 1.\n",
      "Task 1 exited with code 0. \n",
      "Nothing to schedule, terminating.\n"
     ]
    }
   ],
   "source": [
    "import queue\n",
    "\n",
    "class Task(object):\n",
    "    num_tasks = 0\n",
    "\n",
    "    def __init__(self, func):\n",
    "        self.func = func\n",
    "        self.id = Task.num_tasks\n",
    "        Task.num_tasks += 1\n",
    "\n",
    "    def run(self):\n",
    "        return self.func.send(None)\n",
    "\n",
    "class Scheduler(object):\n",
    "    def __init__(self):\n",
    "        self.ready_queue = queue.Queue()\n",
    "        self.tasks = {}\n",
    "\n",
    "    def add_task(self, task):\n",
    "        self.tasks[task.id] = task\n",
    "        self.ready_queue.put(task)\n",
    "        return task.id\n",
    "\n",
    "    def start(self):\n",
    "        while self.tasks:\n",
    "            task = self.ready_queue.get()\n",
    "            try:\n",
    "                task.run()\n",
    "            except StopIteration as e:\n",
    "                print('Task %d exited with code %d. ' % (task.id, e.value))\n",
    "                del self.tasks[task.id]\n",
    "            else:\n",
    "                self.ready_queue.put(task)\n",
    "        print('Nothing to schedule, terminating.')\n",
    "\n",
    "def task0():\n",
    "    for i in range(5):\n",
    "        print('Hello from task 0.')\n",
    "        yield\n",
    "    return 0\n",
    "\n",
    "def task1():\n",
    "    for i in range(10):\n",
    "        print('Hello from task 1.')\n",
    "        yield\n",
    "    return 0\n",
    "        \n",
    "scheduler = Scheduler()\n",
    "scheduler.add_task(Task(task0()))\n",
    "scheduler.add_task(Task(task1()))\n",
    "scheduler.start()"
   ]
  },
  {
   "cell_type": "markdown",
   "metadata": {},
   "source": [
    "### Kódrészlet futásidejének mérése elegánsan"
   ]
  },
  {
   "cell_type": "code",
   "execution_count": 4,
   "metadata": {},
   "outputs": [
    {
     "name": "stdout",
     "output_type": "stream",
     "text": [
      "Runtime of LOOP1: 0.2 ms.\n",
      "Runtime of LOOP2: 170.1 ms.\n"
     ]
    }
   ],
   "source": [
    "import time\n",
    "from contextlib import contextmanager\n",
    "\n",
    "@contextmanager\n",
    "def timethis(name):\n",
    "    t1 = time.time()\n",
    "    yield\n",
    "    t2 = time.time()\n",
    "    print('Runtime of %s: %0.1f ms.' % (name, (t2-t1)*1000))\n",
    "\n",
    "with timethis('LOOP1'):\n",
    "    i = 0\n",
    "    while i<1000:\n",
    "        i += 1\n",
    "\n",
    "with timethis('LOOP2'):\n",
    "    i = 0\n",
    "    while i<1000000:\n",
    "        i += 1"
   ]
  },
  {
   "cell_type": "code",
   "execution_count": 5,
   "metadata": {},
   "outputs": [
    {
     "name": "stdout",
     "output_type": "stream",
     "text": [
      "Runtime of testfunc: 93.0 ms.\n"
     ]
    }
   ],
   "source": [
    "def timeit(func):\n",
    "    def wrapper(*args, **kwargs):\n",
    "        import time\n",
    "        t1 = time.time()\n",
    "        res = func(*args, **kwargs)\n",
    "        t2 = time.time()\n",
    "        print('Runtime of %s: %.1f ms.' % (func.__name__, (t2-t1)*1000))\n",
    "        return res\n",
    "    return wrapper\n",
    "\n",
    "@timeit\n",
    "def testfunc():\n",
    "    i = 0\n",
    "    while i<1000000:\n",
    "        i += 1\n",
    "        \n",
    "testfunc()"
   ]
  },
  {
   "cell_type": "markdown",
   "metadata": {
    "scrolled": true
   },
   "source": [
    "### Függvények kimenetét fájlba átirányító dekorátor"
   ]
  },
  {
   "cell_type": "code",
   "execution_count": 6,
   "metadata": {},
   "outputs": [
    {
     "name": "stdout",
     "output_type": "stream",
     "text": [
      "Function testfunc called. Output:\n",
      "0\n",
      "7\n",
      "14\n",
      "21\n",
      "28\n",
      "35\n",
      "42\n",
      "49\n",
      "56\n",
      "63\n",
      "Function testfunc returned 0.\n"
     ]
    }
   ],
   "source": [
    "def output2file(func):\n",
    "    def wrapper(*args, **kwargs):\n",
    "        import sys\n",
    "        filename = 'log.txt'\n",
    "        file = open(filename,'a')\n",
    "        file.write('Function ' + func.__name__ + ' called. Output:\\n')\n",
    "        stdout_orig = sys.stdout\n",
    "        sys.stdout = file\n",
    "        res = func(*args, **kwargs)\n",
    "        sys.stdout = stdout_orig\n",
    "        file.write('Function ' + func.__name__ + ' returned ' + str(res) + '.\\n')\n",
    "        file.close()\n",
    "        return res\n",
    "    return wrapper\n",
    "\n",
    "@output2file\n",
    "def testfunc(x):\n",
    "    for i in range(10):\n",
    "        print(i*x)\n",
    "    return 0\n",
    "\n",
    "testfunc(7)\n",
    "file = open('log.txt')\n",
    "for line in file:\n",
    "    print(line, end='')\n",
    "file.close()"
   ]
  },
  {
   "cell_type": "markdown",
   "metadata": {
    "collapsed": true
   },
   "source": [
    "### Listák együttes rendezése"
   ]
  },
  {
   "cell_type": "code",
   "execution_count": 7,
   "metadata": {},
   "outputs": [
    {
     "name": "stdout",
     "output_type": "stream",
     "text": [
      "[1, 2, 3, 4, 5]\n",
      "['c', 'b', 'a', 'e', 'd']\n"
     ]
    }
   ],
   "source": [
    "l1 = [3, 2, 1, 5, 4]\n",
    "l2 = ['a', 'b', 'c', 'd', 'e']\n",
    "\n",
    "l1, l2 = [list(t) for t in zip(*sorted(zip(l1, l2)))]\n",
    "\n",
    "print(l1)\n",
    "print(l2)"
   ]
  },
  {
   "cell_type": "markdown",
   "metadata": {
    "collapsed": true
   },
   "source": [
    "### Mutable default paraméter kihasználása eredmények cache-eléséhez"
   ]
  },
  {
   "cell_type": "code",
   "execution_count": 8,
   "metadata": {},
   "outputs": [
    {
     "name": "stdout",
     "output_type": "stream",
     "text": [
      "Cache miss.\n",
      "100\n",
      "Cache miss.\n",
      "16\n",
      "Cache hit.\n",
      "100\n"
     ]
    }
   ],
   "source": [
    "def func(x, cache={}):\n",
    "    try:\n",
    "        result = cache[x]\n",
    "        print('Cache hit.')\n",
    "    except KeyError:\n",
    "        result = x**2\n",
    "        cache[x] = result\n",
    "        print('Cache miss.')\n",
    "    return result\n",
    "\n",
    "print(func(10))\n",
    "print(func(4))\n",
    "print(func(10))"
   ]
  },
  {
   "cell_type": "markdown",
   "metadata": {
    "collapsed": true
   },
   "source": [
    "### Differenciálegyenlet megoldása Runge–Kutta-módszerrel"
   ]
  },
  {
   "cell_type": "code",
   "execution_count": 9,
   "metadata": {},
   "outputs": [
    {
     "data": {
      "image/png": "[encoded data removed]",
      "text/plain": [
       "<matplotlib.figure.Figure at 0x7f9e9c0244e0>"
      ]
     },
     "metadata": {
      "needs_background": "light"
     },
     "output_type": "display_data"
    }
   ],
   "source": [
    "import numpy as np\n",
    "import matplotlib.pyplot as plt\n",
    "%matplotlib inline\n",
    "\n",
    "Ts = 1e-2 # szimulacios idokoz\n",
    "N = 1000 # ennyi utemet szimulalunk\n",
    "x = np.zeros([2,N]) # kezdeti allapot es buffer\n",
    "\n",
    "def dx(x, t):\n",
    "    # x'' + 4x' + 16x = 2sin(pi*t)\n",
    "    dx0 = x[1]\n",
    "    dx1 = -16*x[0] - 4*x[1] + 2*np.sin(np.pi*t)\n",
    "    return np.array([dx0, dx1])\n",
    "\n",
    "for i in range(N-1):\n",
    "    a = dx(x[:,i], i*Ts)\n",
    "    b = dx(x[:,i] + 0.5*Ts*a, i*Ts)\n",
    "    c = dx(x[:,i] + 0.5*Ts*b, i*Ts)\n",
    "    d = dx(x[:,i] + Ts*c, i*Ts)\n",
    "    x[:,i+1] = x[:,i] + Ts*(a+2*b+2*c+d)/6\n",
    "\n",
    "t = np.arange(N)*Ts\n",
    "xth = 0.1430 * np.sin(np.pi*t - 1.1169) # ez az elmeleti megoldas\n",
    "\n",
    "plot1, = plt.plot(t, x[0,:], 'b')\n",
    "plot2, = plt.plot(t, xth, 'r--')\n",
    "plt.xlabel('t [s]')\n",
    "plt.ylabel('x(t) [m]')\n",
    "plt.legend([plot1,plot2], ['szimulalt','szamitott']);"
   ]
  },
  {
   "cell_type": "markdown",
   "metadata": {},
   "source": [
    "### Sudoku megoldása backtrack algoritmussal"
   ]
  },
  {
   "cell_type": "code",
   "execution_count": 10,
   "metadata": {},
   "outputs": [
    {
     "name": "stdout",
     "output_type": "stream",
     "text": [
      "5 3 0 | 0 7 0 | 0 0 0 \n",
      "6 0 0 | 1 9 5 | 0 0 0 \n",
      "0 9 8 | 0 0 0 | 0 6 0 \n",
      "------+-------+------\n",
      "8 0 0 | 0 6 0 | 0 0 3 \n",
      "4 0 0 | 8 0 3 | 0 0 1 \n",
      "7 0 0 | 0 2 0 | 0 0 6 \n",
      "------+-------+------\n",
      "0 6 0 | 0 0 0 | 2 8 0 \n",
      "0 0 0 | 4 1 9 | 0 0 5 \n",
      "0 0 0 | 0 8 0 | 0 7 9 \n",
      "\n",
      "5 3 4 | 6 7 8 | 9 1 2 \n",
      "6 7 2 | 1 9 5 | 3 4 8 \n",
      "1 9 8 | 3 4 2 | 5 6 7 \n",
      "------+-------+------\n",
      "8 5 9 | 7 6 1 | 4 2 3 \n",
      "4 2 6 | 8 5 3 | 7 9 1 \n",
      "7 1 3 | 9 2 4 | 8 5 6 \n",
      "------+-------+------\n",
      "9 6 1 | 5 3 7 | 2 8 4 \n",
      "2 8 7 | 4 1 9 | 6 3 5 \n",
      "3 4 5 | 2 8 6 | 1 7 9 \n",
      "\n"
     ]
    }
   ],
   "source": [
    "import numpy as np\n",
    "\n",
    "def check_board(board):\n",
    "    for r in [0,3,6]:\n",
    "        for c in [0,3,6]:\n",
    "            for n in range(1,10):\n",
    "                if board[r:r+3, c:c+3].ravel().tolist().count(n) > 1:\n",
    "                    return False\n",
    "                for i in range(3):\n",
    "                    if board[r+i, :].tolist().count(n) > 1:\n",
    "                        return False\n",
    "                    if board[:, c+i].tolist().count(n) > 1:\n",
    "                        return False\n",
    "    return True\n",
    "\n",
    "def solve_board(board):\n",
    "    # megkeressuk az ures helyeket\n",
    "    r,c = np.where(board==0)\n",
    "    # ha nincs ures hely, keszen vagyunk\n",
    "    if r.size==0:\n",
    "        return True\n",
    "    # elkezdjuk probalgatni a szamokat az elso megtalalt ures helyre\n",
    "    for i in range(1,10):\n",
    "        board[r[0], c[0]] = i\n",
    "        if check_board(board):\n",
    "            # ha beleillik, rekurzivan megyunk tovabb\n",
    "            if solve_board(board):\n",
    "                return True\n",
    "            # ha ide eljutottunk, akkor nem sikerult megoldani --> visszalepunk\n",
    "            board[r[0], c[0]] = 0\n",
    "        else:\n",
    "            board[r[0], c[0]] = 0\n",
    "    return False\n",
    "\n",
    "def display_board(board):\n",
    "    for r in range(9):\n",
    "        if r in [3, 6]:\n",
    "            print('------+-------+------\\n', end='')\n",
    "        for c in range(9):\n",
    "            if c in [3, 6]:\n",
    "                print('|', end=' '),\n",
    "            print(board[r,c], end=' '),\n",
    "        print()\n",
    "    print()\n",
    "\n",
    "board = np.array([[5,3,0,0,7,0,0,0,0],\n",
    "                  [6,0,0,1,9,5,0,0,0],\n",
    "                  [0,9,8,0,0,0,0,6,0],\n",
    "                  [8,0,0,0,6,0,0,0,3],\n",
    "                  [4,0,0,8,0,3,0,0,1],\n",
    "                  [7,0,0,0,2,0,0,0,6],\n",
    "                  [0,6,0,0,0,0,2,8,0],\n",
    "                  [0,0,0,4,1,9,0,0,5],\n",
    "                  [0,0,0,0,8,0,0,7,9]])\n",
    "\n",
    "display_board(board)\n",
    "solve_board(board)\n",
    "display_board(board)"
   ]
  },
  {
   "cell_type": "markdown",
   "metadata": {},
   "source": [
    "### Az 123456789 számok közé írjunk + és - műveleti jeleket úgy, hogy az összeg 100 legyen!"
   ]
  },
  {
   "cell_type": "code",
   "execution_count": 11,
   "metadata": {},
   "outputs": [
    {
     "name": "stdout",
     "output_type": "stream",
     "text": [
      "123 - 45 - 67 + 89 = 100\n",
      "12 - 3 - 4 + 5 - 6 + 7 + 89 = 100\n",
      "12 + 3 + 4 + 5 - 6 - 7 + 89 = 100\n",
      "123 + 4 - 5 + 67 - 89 = 100\n",
      "1 + 2 + 3 - 4 + 5 + 6 + 78 + 9 = 100\n",
      "12 + 3 - 4 + 5 + 67 + 8 + 9 = 100\n",
      "1 + 23 - 4 + 56 + 7 + 8 + 9 = 100\n",
      "1 + 2 + 34 - 5 + 67 - 8 + 9 = 100\n",
      "1 + 23 - 4 + 5 + 6 + 78 - 9 = 100\n",
      "123 + 45 - 67 + 8 - 9 = 100\n",
      "123 - 4 - 5 - 6 - 7 + 8 - 9 = 100\n"
     ]
    }
   ],
   "source": [
    "for i in range(3**8):\n",
    "    expr = '1'\n",
    "    for j in range(1,9):\n",
    "        op = int(i/(3**(j-1)))%3 # i 3-as szamrendszerbeli alakjanak j-edik helyierteke\n",
    "        if op == 1:\n",
    "            expr += ' + '\n",
    "        elif op == 2:\n",
    "            expr += ' - '\n",
    "        expr += str(j+1)\n",
    "    if eval(expr) == 100:\n",
    "        print(expr + ' = 100')"
   ]
  }
 ],
 "metadata": {
  "kernelspec": {
   "display_name": "Python 3",
   "language": "python",
   "name": "python3"
  },
  "language_info": {
   "codemirror_mode": {
    "name": "ipython",
    "version": 3
   },
   "file_extension": ".py",
   "mimetype": "text/x-python",
   "name": "python",
   "nbconvert_exporter": "python",
   "pygments_lexer": "ipython3",
   "version": "3.6.8"
  }
 },
 "nbformat": 4,
 "nbformat_minor": 2
}
